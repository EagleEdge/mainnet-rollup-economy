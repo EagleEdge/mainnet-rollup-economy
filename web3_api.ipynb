{
 "cells": [
  {
   "cell_type": "code",
   "execution_count": 1,
   "id": "dd86915a-6214-46d0-9b78-21d8c6c12dc5",
   "metadata": {},
   "outputs": [],
   "source": [
    "from web3 import Web3\n",
    "from hexbytes import HexBytes"
   ]
  },
  {
   "cell_type": "code",
   "execution_count": 2,
   "id": "3fe421e6-be2e-419e-b7c5-8860999d9c3f",
   "metadata": {},
   "outputs": [
    {
     "data": {
      "text/plain": [
       "True"
      ]
     },
     "execution_count": 2,
     "metadata": {},
     "output_type": "execute_result"
    }
   ],
   "source": [
    "# Connect to Infura endpoint using web3 API\n",
    "\n",
    "# Ethereum mainnet\n",
    "provider_url = 'https://mainnet.infura.io/v3/API-KEY'\n",
    "# Arbitrum\n",
    "# provider_url = 'https://arbitrum-mainnet.infura.io/v3/API-KEY'\n",
    "# Optimism\n",
    "# provider_url = 'https://optimism-mainnet.infura.io/v3/API-KEY'\n",
    "w3 = Web3(Web3.HTTPProvider(provider_url))\n",
    "w3.isConnected()"
   ]
  },
  {
   "cell_type": "code",
   "execution_count": null,
   "id": "570bc6ed-a812-4741-a5db-b83943bcf7e1",
   "metadata": {},
   "outputs": [],
   "source": [
    "type(HexBytes('0x6a33214c11eaa86901151ff87bf884377d33fd54ee206a98554a79e63ecf1321'))"
   ]
  },
  {
   "cell_type": "markdown",
   "id": "be9c1051-7d57-4672-866b-38ebeffc57c1",
   "metadata": {},
   "source": [
    "Two functions are defined below, one is used to retrieve transaction receipt and the other is used to retrieve transaction details.\n",
    "If you want to know the difference between these two, checkout\n",
    "\n",
    "https://ethereum.stackexchange.com/questions/5888/relationship-between-transaction-trie-and-receipts-trie?rq=1\n",
    "\n",
    "Receipts record the outcome of the transaction. while transaction detail records, well, transaction requests."
   ]
  },
  {
   "cell_type": "code",
   "execution_count": null,
   "id": "42734dc8-dd0e-42b4-849b-724498aa6bed",
   "metadata": {},
   "outputs": [],
   "source": [
    "# Function for retrieving transaction receipt\n",
    "def get_tx_receipt(txhash):\n",
    "    assert(type(txhash)==HexBytes)\n",
    "    receipt = w3.eth.getTransactionReceipt(txhash)\n",
    "    return receipt"
   ]
  },
  {
   "cell_type": "code",
   "execution_count": null,
   "id": "4f26d275-5d51-4d54-a41e-fdb313a6f6b9",
   "metadata": {},
   "outputs": [],
   "source": [
    "txhash = HexBytes('0x6a33214c11eaa86901151ff87bf884377d33fd54ee206a98554a79e63ecf1321')\n",
    "get_tx_receipt(txhash)"
   ]
  },
  {
   "cell_type": "code",
   "execution_count": null,
   "id": "a9dff8d5-821e-48bd-947b-d1661f8d6337",
   "metadata": {},
   "outputs": [],
   "source": [
    "# Function for retrieving block information\n",
    "# detail=True gives detailed information about each transaction included in the block\n",
    "# detail=False lists transactions included in the block wihtout transaction details\n",
    "def get_block_info(blockno, detail=True):\n",
    "    info = w3.eth.getBlock(blockno, detail)\n",
    "    return info"
   ]
  },
  {
   "cell_type": "code",
   "execution_count": null,
   "id": "334b28f0-eeb2-4ed8-8f8b-a6bed75196f0",
   "metadata": {},
   "outputs": [],
   "source": [
    "get_block_info(15848130, detail=False)"
   ]
  },
  {
   "cell_type": "code",
   "execution_count": null,
   "id": "1c58a9fa-6c4b-44a6-86f9-5ab4b59c1eae",
   "metadata": {},
   "outputs": [],
   "source": [
    "# Retrieve transaction information\n",
    "def get_tx_info(txhash):\n",
    "    assert(type(txhash)==HexBytes)\n",
    "    info = w3.eth.getTransaction(txhash)\n",
    "    return info"
   ]
  },
  {
   "cell_type": "code",
   "execution_count": null,
   "id": "7c5ce012-3aee-4ca8-957a-00cf6be9a44d",
   "metadata": {},
   "outputs": [],
   "source": [
    "get_tx_info(txhash)"
   ]
  },
  {
   "cell_type": "code",
   "execution_count": null,
   "id": "399fd1eb-a295-441e-8c9a-3a78ba0b42b3",
   "metadata": {},
   "outputs": [],
   "source": [
    "# This function converts a random string to a HexBytes.\n",
    "def sha3(s:str):\n",
    "    return Web3.sha3(text=s)"
   ]
  },
  {
   "cell_type": "code",
   "execution_count": null,
   "id": "b7f6e98b-48fa-460b-82d8-2b03927f2f5e",
   "metadata": {},
   "outputs": [],
   "source": [
    "sha3('Ethereum Is Awesome')"
   ]
  },
  {
   "cell_type": "code",
   "execution_count": null,
   "id": "8e79eafe-4750-4723-a3be-4f962d48591b",
   "metadata": {},
   "outputs": [],
   "source": []
  }
 ],
 "metadata": {
  "kernelspec": {
   "display_name": "Python 3 (ipykernel)",
   "language": "python",
   "name": "python3"
  },
  "language_info": {
   "codemirror_mode": {
    "name": "ipython",
    "version": 3
   },
   "file_extension": ".py",
   "mimetype": "text/x-python",
   "name": "python",
   "nbconvert_exporter": "python",
   "pygments_lexer": "ipython3",
   "version": "3.11.0"
  }
 },
 "nbformat": 4,
 "nbformat_minor": 5
}
