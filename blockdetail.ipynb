{
 "cells": [
  {
   "cell_type": "markdown",
   "id": "fa11892f-9b22-4c6f-9e1d-46baef4c6efe",
   "metadata": {},
   "source": [
    "# Block Detail\n",
    "In this notebook, I extract block details given a start_block number and end_block number. Information extracted include:\n",
    "- block detail\n",
    "- gas usage\n",
    "- timestamp\n",
    "- sibling blocks"
   ]
  },
  {
   "cell_type": "code",
   "execution_count": 1,
   "id": "f1159164-f167-45c2-a3c3-19c07d8b05dc",
   "metadata": {},
   "outputs": [],
   "source": [
    "import os\n",
    "from hexbytes import HexBytes\n",
    "import csv\n",
    "import numpy as np\n",
    "import sys\n",
    "import copy\n",
    "import web3_api"
   ]
  },
  {
   "cell_type": "code",
   "execution_count": 2,
   "id": "6f1662a0-e2ef-40cd-a0f5-80a58547e400",
   "metadata": {},
   "outputs": [],
   "source": [
    "block_start = 13500000\n",
    "block_end = 15850000\n",
    "database = {} # store transaction hash with timestamp\n",
    "blockdetail = {} # store block details"
   ]
  },
  {
   "cell_type": "code",
   "execution_count": null,
   "id": "55e6a14b-0022-46e5-8439-d2d17735c742",
   "metadata": {},
   "outputs": [],
   "source": []
  }
 ],
 "metadata": {
  "kernelspec": {
   "display_name": "Python 3 (ipykernel)",
   "language": "python",
   "name": "python3"
  },
  "language_info": {
   "codemirror_mode": {
    "name": "ipython",
    "version": 3
   },
   "file_extension": ".py",
   "mimetype": "text/x-python",
   "name": "python",
   "nbconvert_exporter": "python",
   "pygments_lexer": "ipython3",
   "version": "3.11.0"
  }
 },
 "nbformat": 4,
 "nbformat_minor": 5
}
